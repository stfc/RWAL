{
 "cells": [
  {
   "cell_type": "markdown",
   "metadata": {},
   "source": [
    "__Resistive Wall for Arbitrary Layers (RWAL)__\n",
    "\n",
    "D. W. Posthuma de Boer (ISIS, STFC, UKRI)\n",
    "\n",
    "Code for computing the transverse driving impedance of an\n",
    "infinitely long, multi-layer cylincrical strucutre. To run the\n",
    "code, input settings in the settings section and then run\n",
    "the whole notebook from start to finish. There are plots\n",
    "for inspecting the impedance and wake, and output files are\n",
    "saved in the outputs folder."
   ]
  },
  {
   "cell_type": "code",
   "execution_count": 1,
   "metadata": {
    "tags": []
   },
   "outputs": [],
   "source": [
    "import os\n",
    "import numpy as np\n",
    "from numpy.lib import scimath as snp  # numpy sqrt(-1)\n",
    "import matplotlib.pyplot as plt\n",
    "import scipy.constants as cn\n",
    "import sympy as ss\n",
    "from sympy.utilities.lambdify import lambdify\n",
    "import mpmath as mp\n",
    "from tqdm import tqdm\n",
    "from joblib import Parallel, delayed\n",
    "import pyfilon as fil\n",
    "\n",
    "rwal_version = \"0.0.1\"\n",
    "\n",
    "solution_path = 'saved_solutions'\n",
    "output_path = 'outputs'\n",
    "nu = ss.symbols('nu')"
   ]
  },
  {
   "cell_type": "markdown",
   "metadata": {},
   "source": [
    "# Settings"
   ]
  },
  {
   "cell_type": "markdown",
   "metadata": {},
   "source": [
    "## File Save Settings"
   ]
  },
  {
   "cell_type": "code",
   "execution_count": 2,
   "metadata": {
    "tags": []
   },
   "outputs": [],
   "source": [
    "filename = 'thin_wall'"
   ]
  },
  {
   "cell_type": "markdown",
   "metadata": {},
   "source": [
    "## MPMath Precision\n",
    "\n",
    "Evaluation of the impedance involves some very large and very small floating\n",
    "point numbers, so mpmath is used for several calculations. This setting defines\n",
    "the precision used by mpmath. Setting it too high will slow down calculations,\n",
    "setting it low could make results inaccurate.\n",
    "See https://mpmath.org/doc/current/basics.html#setting-the-precision"
   ]
  },
  {
   "cell_type": "code",
   "execution_count": 3,
   "metadata": {},
   "outputs": [],
   "source": [
    "mp.mp.dps = 25"
   ]
  },
  {
   "cell_type": "markdown",
   "metadata": {},
   "source": [
    "## Frequency and Impedance Settings\n",
    "\n",
    "The impedance will be evaluated at these frequencies \n",
    "and follow the chosen convention. If wakes are being\n",
    "computed, then the sample frequencies should be dense\n",
    "enough for the inverse Fourier transform."
   ]
  },
  {
   "cell_type": "code",
   "execution_count": 4,
   "metadata": {
    "tags": []
   },
   "outputs": [],
   "source": [
    "freqs = np.logspace(0, 12, 1000)\n",
    "impedance_convention = \"-i\" # \"+j\""
   ]
  },
  {
   "cell_type": "markdown",
   "metadata": {},
   "source": [
    "## Geometry Settings\n",
    "`num_layers` defines the number of material layers, so that\n",
    "1 = thick wall, 2 = thin wall etc.\n",
    "\n",
    "`inner_radius` is the inner radius of the innermost material layer in metres.\n",
    "\n",
    "`layer_thickness` is the layer thickness in metres. The outermost layer extends to infinity, so the thickness of that layer cannot be specified. The length of the array is therefore one less than the number of layers."
   ]
  },
  {
   "cell_type": "code",
   "execution_count": 5,
   "metadata": {
    "tags": []
   },
   "outputs": [],
   "source": [
    "num_layers = 2\n",
    "\n",
    "inner_radius = 50e-3\n",
    "\n",
    "layer_thickness = [\n",
    "    5e-3\n",
    "]  # length should be num_layers - 1 (last layer extends to infty)\n"
   ]
  },
  {
   "cell_type": "markdown",
   "metadata": {},
   "source": [
    "## Material Properties\n",
    "\n",
    "Conductivity in Siemens/ metre. Permeability and permittivity are in SI units.\n",
    "\n",
    "For lossy materials, the permeability and permittivity can be specified\n",
    "as complex. The time-frequency FT's have been defined with engineering\n",
    "convention, so that for example a lossy ferrite would have\n",
    "$$\n",
    "\\mu = \\mu' - i\\mu'',\n",
    "$$\n",
    "where the imaginary part of $\\mu$ is negative ($\\mu''$ is positive).\n",
    "This is also true for the permittivity. These conventions are\n",
    "as defined in textbooks such as D. Pozars, \"Introduction to\n",
    "Microwave Engineering\". \n",
    "\n",
    "For frequency dependent properties, quantities can be specified as\n",
    "functions of the frequency variable, `nu`.\n",
    "\n",
    "The last layer of conductivity can be specified as 'PEC' which\n",
    "will create a perfectly conducting outer layer or 'PMC', which\n",
    "will create a perfect magnetic conductor in the outermost layer.\n",
    "Permeability and permittivity should be specified for PEC and PMC regions\n",
    "(just to have the right length arrays)."
   ]
  },
  {
   "cell_type": "code",
   "execution_count": 6,
   "metadata": {
    "tags": []
   },
   "outputs": [],
   "source": [
    "conductivity = [\n",
    "    1.4e6,\n",
    "    0.0\n",
    "]\n",
    "\n",
    "permeability = [\n",
    "    cn.mu_0,\n",
    "    cn.mu_0\n",
    "]\n",
    "\n",
    "permittivity = [\n",
    "    cn.epsilon_0,\n",
    "    cn.epsilon_0\n",
    "]"
   ]
  },
  {
   "cell_type": "markdown",
   "metadata": {},
   "source": [
    "## Beam Settings"
   ]
  },
  {
   "cell_type": "code",
   "execution_count": 7,
   "metadata": {
    "tags": []
   },
   "outputs": [],
   "source": [
    "beta = 0.999\n",
    "particle_offset = 1e-3  # For transverse impedance, anything smaller than inner radius\n",
    "\n",
    "# multipole_moment is a variable, but a lot of RWAL\n",
    "# assumes it is equal to 1. I've left it here for possible\n",
    "# future developments, but it shouldn't ordinarily be changed.\n",
    "multipole_moment = 1  # 0=monopole, 1=dipole, 2=quadrupole etc"
   ]
  },
  {
   "cell_type": "markdown",
   "metadata": {},
   "source": [
    "## Space-Charge Options"
   ]
  },
  {
   "cell_type": "code",
   "execution_count": 8,
   "metadata": {
    "tags": []
   },
   "outputs": [],
   "source": [
    "include_direct_space_charge = False  # if true space charge impedance included\n",
    "include_indirect_space_charge = False  # if true space charge impedance included"
   ]
  },
  {
   "cell_type": "markdown",
   "metadata": {},
   "source": [
    "## Wake Function Options\n",
    "\n",
    "---\n",
    "\n",
    "**WARNING**\n",
    "\n",
    "The wake computation of RWAL works in principle, but it is not automatically\n",
    "accurate. The user has to get all the settings right and check convergence. \n",
    "\n",
    "---"
   ]
  },
  {
   "cell_type": "code",
   "execution_count": 9,
   "metadata": {
    "tags": []
   },
   "outputs": [],
   "source": [
    "# The variable wake_z contains the values of z (distance\n",
    "# behind source particle) where the wake function is evaluated.\n",
    "# z is defined as positive ahead of the source particle, so\n",
    "# for a β = 1 beam, the wake will only be non-zero for z < 0.\n",
    "\n",
    "compute_wake = True\n",
    "\n",
    "# Mesh setting is used to control how many points\n",
    "# are used for in the filon integration. Since the number of points\n",
    "# must be an odd integer, the actual number of points\n",
    "# used is (2 * mesh_setting + 1).\n",
    "# Mesh setting must be a positive integer. A higher number\n",
    "# can be better, but only frequency steps are sufficiently small\n",
    "# for a linear interpolation to be accurate.\n",
    "mesh_setting = 1\n",
    "\n",
    "# Distance ahead of the source particle to calculate.\n",
    "# Negative values are behind the source particle.\n",
    "_z = -np.logspace(-4, 6, 500)\n",
    "z = np.append(_z[::-1], -_z)"
   ]
  },
  {
   "cell_type": "markdown",
   "metadata": {},
   "source": [
    "## Save Settings to File"
   ]
  },
  {
   "cell_type": "code",
   "execution_count": 10,
   "metadata": {
    "tags": []
   },
   "outputs": [],
   "source": [
    "settings_dict = {\n",
    "    \"rwal_version\": rwal_version,\n",
    "    \"impedance_convention\" : impedance_convention,\n",
    "    \"num_layers\" : num_layers,\n",
    "    \"inner_radius\" : inner_radius,\n",
    "    \"layer_thickness\" : layer_thickness,\n",
    "    \"conductivity\" : conductivity,\n",
    "    \"permeability\" : permeability,\n",
    "    \"permittivity\" : permittivity,\n",
    "    \"beta\" : beta,\n",
    "    \"particle_offset\": particle_offset,\n",
    "    \"multipole_moment\": multipole_moment,\n",
    "    \"include_direct_space_charge\": include_direct_space_charge,\n",
    "    \"include_indirect_space_charge\": include_indirect_space_charge,\n",
    "    \"compute_wake\": compute_wake,\n",
    "    \"frequency\": freqs,\n",
    "    \"z\": z\n",
    "}"
   ]
  },
  {
   "cell_type": "code",
   "execution_count": 11,
   "metadata": {
    "tags": []
   },
   "outputs": [],
   "source": [
    "with open(os.path.join(output_path, filename + '.settings.txt'), 'w') as f:\n",
    "    print(settings_dict, file=f)"
   ]
  },
  {
   "cell_type": "markdown",
   "metadata": {},
   "source": [
    "# Build Matrices"
   ]
  },
  {
   "cell_type": "markdown",
   "metadata": {},
   "source": [
    "For a scenario with `num_layers` material layers, there are a total of\n",
    "`num_layers + 2` regions to solve for, which includes the vacuum region\n",
    "inside and outside the radius of the source particle. \n",
    "The Fourier transforms of the longitudinal fields in region $n$ have the\n",
    "general forms\n",
    "$$\n",
    "\\begin{aligned}\n",
    "\\tilde{E}_{s, n}\\left(r, \\phi, s, \\omega \\right)\n",
    "&=\n",
    "\\sum_{m=0}^{\\infty}\n",
    "\\left[\n",
    "A'_n I_{m} \\left( \\chi_n r \\right) +\n",
    "B'_n K_{m} \\left( \\chi_n r \\right)\n",
    "\\right]\n",
    "\\left[\n",
    "A''_n \\cos(m \\phi) + \n",
    "B''_n \\sin(m \\phi)\n",
    "\\right] e^{i\\omega \\frac{s}{v}},\\\\\n",
    "\\tilde{H}_{s, n}\\left(r, \\phi, s, \\omega \\right)\n",
    "&=\n",
    "\\sum_{m=0}^{\\infty}\n",
    "\\left[\n",
    "D'_n I_{m} \\left( \\chi_n r \\right) +\n",
    "F'_n K_{m} \\left( \\chi_n r \\right)\n",
    "\\right]\n",
    "\\left[\n",
    "D''_n \\cos(m \\phi) + \n",
    "F''_n \\sin(m \\phi)\n",
    "\\right] e^{i\\omega \\frac{s}{v}},\n",
    "\\end{aligned}\n",
    "$$\n",
    "\n",
    "Each region has four unknown coefficients so there are a total of \n",
    "`4(num_layers + 2)` unknowns. We can apply matching conditions at\n",
    "the interfaces between the regions, but there is one fewer boundary\n",
    "than there are regions, so if we match four field components\n",
    "($\\tilde{E}_{s} \\tilde{E}_{\\phi} \\tilde{H}_{s}$ and\n",
    "$\\tilde{H}_{\\phi}$) at each boundary, then there are not enough\n",
    "equations to solve the problem.\n",
    "\n",
    "It is noticed that the innermost beam region actually only has two\n",
    "unknowns since the coefficient of\n",
    "$K_m(\\chi_0 r)$ must be zero at $r=0$. The outermost region also\n",
    "has only two unknowns since the coefficient of $I_m(\\chi_N r)$\n",
    "must be zero as $r \\rightarrow \\infty$. This reduces the number\n",
    "of unknowns to `4(num_layers + 1)`, making the problem solvable.\n",
    "\n",
    "Cramer's rule will be used to find an expression for the impedance, so \n",
    "matching conditions will be written down and a coefficient matrix constructed. "
   ]
  },
  {
   "cell_type": "code",
   "execution_count": 12,
   "metadata": {},
   "outputs": [],
   "source": [
    "num_regions = num_layers + 2  # inside beam, outside beam\n",
    "num_boundaries = num_regions - 1\n",
    "\n",
    "# Matching coefficients for I and K bessel functions\n",
    "a = ss.symbols('a:{}'.format(num_regions)) \n",
    "b = ss.symbols('b:{}'.format(num_regions))\n",
    "d = ss.symbols('d:{}'.format(num_regions))\n",
    "f = ss.symbols('f:{}'.format(num_regions))\n",
    "\n",
    "# Radii for the different layers\n",
    "alpha = ss.symbols('alpha:{}'.format(num_regions-1))\n",
    "\n",
    "# Permittivity and permeability\n",
    "# permittivity should be complex E + i sigma/omega\n",
    "# sigma = conductivity\n",
    "epsilon = ss.symbols('epsilon:{}'.format(num_regions))\n",
    "mu = ss.symbols('mu:{}'.format(num_regions))\n",
    "sigma = ss.symbols('sigma:{}'.format(num_regions))\n",
    "\n",
    "# Phase velocity and propagation constants\n",
    "k = ss.symbols('k')\n",
    "chi = ss.symbols('chi:{}'.format(num_regions))\n",
    "\n",
    "# Angular frequency and frequency\n",
    "omega = ss.symbols('omega')\n",
    "#nu = ss.symbols('nu')\n",
    "\n",
    "# Relativistic factors\n",
    "v, gamma = ss.symbols('v gamma')\n",
    "\n",
    "# A constant\n",
    "Gamma = ss.symbols('Gamma')\n",
    "\n",
    "# Multipole moment qe**m\n",
    "Qm = ss.symbols('Q_m')\n",
    "\n",
    "# moment integer\n",
    "m = ss.symbols('m', integer=True)\n",
    "\n",
    "# generic symbol\n",
    "x = ss.symbols('x')\n",
    "\n",
    "# delta_{m,0} = 1 of m=0 and 0 otherwise\n",
    "dm = ss.symbols('\\delta_{m0}')"
   ]
  },
  {
   "cell_type": "code",
   "execution_count": 13,
   "metadata": {},
   "outputs": [],
   "source": [
    "def Ibp(m, argument):    \n",
    "    return ss.diff(ss.besseli(m, x), x).subs({x: argument})\n",
    "\n",
    "def Kbp(m, argument):    \n",
    "    return ss.diff(ss.besselk(m, x), x).subs({x: argument})\n",
    "\n",
    "def Kb(m, argument):\n",
    "    return ss.besselk(m, argument)\n",
    "\n",
    "def Ib(m, argument):\n",
    "    return ss.besseli(m, argument)"
   ]
  },
  {
   "cell_type": "markdown",
   "metadata": {},
   "source": [
    "## Generate Initial Matrix with Dimensions\n",
    "\n",
    "Since the majority of elements in the matrix will be $0$, I will start by generating a\n",
    "matrix with `zeros()` and then modify the non-zero elements."
   ]
  },
  {
   "cell_type": "code",
   "execution_count": 14,
   "metadata": {},
   "outputs": [],
   "source": [
    "matrix_size = 4 * num_boundaries\n",
    "\n",
    "coef_matrix = ss.zeros(matrix_size)\n",
    "# coef_matrix"
   ]
  },
  {
   "cell_type": "markdown",
   "metadata": {},
   "source": [
    "## Populate Matrix Elements\n"
   ]
  },
  {
   "cell_type": "code",
   "execution_count": 15,
   "metadata": {},
   "outputs": [],
   "source": [
    "# looping through the boundaries and connecting regions i and i+1,\n",
    "# where i is the boundary number. The comments indicate which matching\n",
    "# condition produced the coefficients for the matrix element.\n",
    "\n",
    "for i in range(num_boundaries):\n",
    "    if i == 0:\n",
    "        # The boundary at the interface of the charge ring differs from all\n",
    "        # subsequent boundaries, because there is no b[0] term in the innermost\n",
    "        # region since Kb would go to infinity at r=0\n",
    "        \n",
    "        # Ez at r=a\n",
    "        coef_matrix[0, 0] = -Ib(m, chi[i]*alpha[i])    # a0\n",
    "        coef_matrix[0, 2] = Ib(m, chi[i+1]*alpha[i]) # a1\n",
    "        coef_matrix[0, 3] = Kb(m, chi[i+1]*alpha[i]) # b1\n",
    "        \n",
    "        # Ephi at r=a\n",
    "        coef_matrix[1, 5] = 1  # f1\n",
    "        \n",
    "        # Bz at r=a, don't need Hz since both sides vacuum\n",
    "        coef_matrix[2, 1] = -Ib(m, chi[i]*alpha[i])    # d0\n",
    "        coef_matrix[2, 4] = Ib(m, chi[i+1]*alpha[i]) # d1\n",
    "        coef_matrix[2, 5] = Kb(m, chi[i+1]*alpha[i]) # f1\n",
    "        \n",
    "        # BPhi at r=a\n",
    "        coef_matrix[3, 3] = 1\n",
    "    \n",
    "    elif i == num_boundaries - 1:\n",
    "        # On the last iteration\n",
    "        # of this loop i = (num_boundaries-1) = (num_regions-2)\n",
    "        # This region does not have an a or d coefficients\n",
    "        \n",
    "        # Ez\n",
    "        coef_matrix[i*4 + 0, (i-1)*4 + 2 + 0] = -Ib(m, chi[i]*alpha[i])  # a[i]\n",
    "        coef_matrix[i*4 + 0, (i-1)*4 + 2 + 1] = -Kb(m, chi[i]*alpha[i])  # b[i]\n",
    "        coef_matrix[i*4 + 0, (i-0)*4 + 2 + 0] = Kb(m, chi[i+1]*alpha[i])    # b[i+1] (there is no a[i+1])\n",
    "        \n",
    "        # EPhi\n",
    "        coef_matrix[i*4 + 1, (i-1)*4 + 2 + 0] = (k*m/(chi[i]**2*alpha[i])) * Ib(m, chi[i]*alpha[i])  # a[i]\n",
    "        coef_matrix[i*4 + 1, (i-1)*4 + 2 + 1] = (k*m/(chi[i]**2*alpha[i])) * Kb(m, chi[i]*alpha[i])  # b[i]\n",
    "        coef_matrix[i*4 + 1, (i-1)*4 + 2 + 2] = (omega*mu[i]/chi[i])*Ibp(m, chi[i]*alpha[i])  # d[i]\n",
    "        coef_matrix[i*4 + 1, (i-1)*4 + 2 + 3] = (omega*mu[i]/chi[i])*Kbp(m, chi[i]*alpha[i])  # f[i]\n",
    "        coef_matrix[i*4 + 1, (i-0)*4 + 2 + 0] = -(k*m/(chi[i+1]**2*alpha[i])) * Kb(m, chi[i+1]*alpha[i])  # b[i+1] there is no a[i+1]\n",
    "        coef_matrix[i*4 + 1, (i-0)*4 + 2 + 1] = -(omega*mu[i+1]/chi[i+1])*Kbp(m, chi[i+1]*alpha[i])  # f[i+1] there is no d[i+1]\n",
    "        \n",
    "        # Hz\n",
    "        coef_matrix[i*4 + 2, (i-1)*4 + 2 + 2] = -Ib(m, chi[i]*alpha[i])  # d[i]\n",
    "        coef_matrix[i*4 + 2, (i-1)*4 + 2 + 3] = -Kb(m, chi[i]*alpha[i])  # f[i]\n",
    "        coef_matrix[i*4 + 2, (i-0)*4 + 2 + 1] = Kb(m, chi[i+1]*alpha[i])    # f[i+1] (there is no d[i+1])\n",
    "        \n",
    "        # HPhi\n",
    "        coef_matrix[i*4 + 3, (i-1)*4 + 2 + 0] = -(omega*epsilon[i]/chi[i])*Ibp(m, chi[i]*alpha[i])  # a[i]\n",
    "        coef_matrix[i*4 + 3, (i-1)*4 + 2 + 1] = -(omega*epsilon[i]/chi[i])*Kbp(m, chi[i]*alpha[i])  # b[i]\n",
    "        coef_matrix[i*4 + 3, (i-1)*4 + 2 + 2] = -(k*m/(chi[i]**2*alpha[i]))*Ib(m, chi[i]*alpha[i])  # d[i]\n",
    "        coef_matrix[i*4 + 3, (i-1)*4 + 2 + 3] = -(k*m/(chi[i]**2*alpha[i]))*Kb(m, chi[i]*alpha[i])  # f[i]\n",
    "        coef_matrix[i*4 + 3, (i-0)*4 + 2 + 0] = (omega*epsilon[i+1]/chi[i+1])*Kbp(m, chi[i+1]*alpha[i])  # b[i+1]\n",
    "        coef_matrix[i*4 + 3, (i-0)*4 + 2 + 1] = (k*m/(chi[i+1]**2*alpha[i]))*Kb(m, chi[i+1]*alpha[i])  # f[i+1]\n",
    "    \n",
    "    else:\n",
    "        # Ez\n",
    "        coef_matrix[i*4 + 0, (i-1)*4 + 2 + 0] = -Ib(m, chi[i]*alpha[i])  # a[i]\n",
    "        coef_matrix[i*4 + 0, (i-1)*4 + 2 + 1] = -Kb(m, chi[i]*alpha[i])  # b[i]\n",
    "        coef_matrix[i*4 + 0, (i-0)*4 + 2 + 0] = Ib(m, chi[i+1]*alpha[i])    # a[i+1]\n",
    "        coef_matrix[i*4 + 0, (i-0)*4 + 2 + 1] = Kb(m, chi[i+1]*alpha[i])    # b[i+1]\n",
    "        \n",
    "        \n",
    "        # EPhi\n",
    "        coef_matrix[i*4 + 1, (i-1)*4 + 2 + 0] = (k*m/(chi[i]**2*alpha[i])) * Ib(m, chi[i]*alpha[i])  # a[i]\n",
    "        coef_matrix[i*4 + 1, (i-1)*4 + 2 + 1] = (k*m/(chi[i]**2*alpha[i])) * Kb(m, chi[i]*alpha[i])  # b[i]\n",
    "        coef_matrix[i*4 + 1, (i-1)*4 + 2 + 2] = (omega*mu[i]/chi[i])*Ibp(m, chi[i]*alpha[i])  # d[i]\n",
    "        coef_matrix[i*4 + 1, (i-1)*4 + 2 + 3] = (omega*mu[i]/chi[i])*Kbp(m, chi[i]*alpha[i])  # f[i]\n",
    "        coef_matrix[i*4 + 1, (i-0)*4 + 2 + 0] = -(k*m/(chi[i+1]**2*alpha[i])) * Ib(m, chi[i+1]*alpha[i])  # a[i+1]\n",
    "        coef_matrix[i*4 + 1, (i-0)*4 + 2 + 1] = -(k*m/(chi[i+1]**2*alpha[i])) * Kb(m, chi[i+1]*alpha[i])  # b[i+1]\n",
    "        coef_matrix[i*4 + 1, (i-0)*4 + 2 + 2] = -(omega*mu[i+1]/chi[i+1])*Ibp(m, chi[i+1]*alpha[i])  # d[i + 1]\n",
    "        coef_matrix[i*4 + 1, (i-0)*4 + 2 + 3] = -(omega*mu[i+1]/chi[i+1])*Kbp(m, chi[i+1]*alpha[i])  # f[i + 1]\n",
    "        \n",
    "        # Hz\n",
    "        coef_matrix[i*4 + 2, (i-1)*4 + 2 + 2] = -Ib(m, chi[i]*alpha[i])  # d[i]\n",
    "        coef_matrix[i*4 + 2, (i-1)*4 + 2 + 3] = -Kb(m, chi[i]*alpha[i])  # f[i]\n",
    "        coef_matrix[i*4 + 2, (i-0)*4 + 2 + 2] = Ib(m, chi[i+1]*alpha[i])    # d[i+1]\n",
    "        coef_matrix[i*4 + 2, (i-0)*4 + 2 + 3] = Kb(m, chi[i+1]*alpha[i])    # f[i+1]\n",
    "        \n",
    "        # HPhi\n",
    "        coef_matrix[i*4 + 3, (i-1)*4 + 2 + 0] = -(omega*epsilon[i]/chi[i])*Ibp(m, chi[i]*alpha[i])  # a[i]\n",
    "        coef_matrix[i*4 + 3, (i-1)*4 + 2 + 1] = -(omega*epsilon[i]/chi[i])*Kbp(m, chi[i]*alpha[i])  # b[i]\n",
    "        coef_matrix[i*4 + 3, (i-1)*4 + 2 + 2] = -(k*m/(chi[i]**2*alpha[i]))*Ib(m, chi[i]*alpha[i])  # d[i]\n",
    "        coef_matrix[i*4 + 3, (i-1)*4 + 2 + 3] = -(k*m/(chi[i]**2*alpha[i]))*Kb(m, chi[i]*alpha[i])  # f[i]\n",
    "        coef_matrix[i*4 + 3, (i-0)*4 + 2 + 0] = (omega*epsilon[i+1]/chi[i+1])*Ibp(m, chi[i+1]*alpha[i])  # a[i+1]\n",
    "        coef_matrix[i*4 + 3, (i-0)*4 + 2 + 1] = (omega*epsilon[i+1]/chi[i+1])*Kbp(m, chi[i+1]*alpha[i])  # b[i+1]\n",
    "        coef_matrix[i*4 + 3, (i-0)*4 + 2 + 2] = (k*m/(chi[i+1]**2*alpha[i]))*Ib(m, chi[i+1]*alpha[i])  # d[i+1]\n",
    "        coef_matrix[i*4 + 3, (i-0)*4 + 2 + 3] = (k*m/(chi[i+1]**2*alpha[i]))*Kb(m, chi[i+1]*alpha[i])  # f[i+1]\n",
    "\n",
    "# coef_matrix"
   ]
  },
  {
   "cell_type": "markdown",
   "metadata": {},
   "source": [
    "## Generate Constant Matrix\n",
    "We only need to find the coefficient $A_0$ so we require only one additional matrix.\n",
    "The first column has been used for coefficients of $A_0$, and so will be replaced\n",
    "with the constants from these matching equations. The only non-zero constant is from\n",
    "the innermost boundary where the beam is considered to be a surface current which\n",
    "produces a discontinuity in $B_{\\phi}$. This constant will just be given the variable\n",
    "$\\Gamma$ and substituted later."
   ]
  },
  {
   "cell_type": "code",
   "execution_count": 16,
   "metadata": {},
   "outputs": [],
   "source": [
    "# Make an empty NxN matrix based on the num layers variable\n",
    "const_matrix = coef_matrix.copy()\n",
    "\n",
    "# The first columns is a_1 (or a[0] in sympy) so we replace that col with\n",
    "# the constants col. Gamma comes from b2 and will be substituted later.\n",
    "temp_matrix = ss.zeros(matrix_size, 1)  # make a matrix of the right size\n",
    "temp_matrix[3] = Gamma\n",
    "const_matrix[:, 0] = temp_matrix.copy()\n",
    "del(temp_matrix)\n",
    "# const_matrix"
   ]
  },
  {
   "cell_type": "markdown",
   "metadata": {},
   "source": [
    "## Update Matrix for PEC and PMC Regions"
   ]
  },
  {
   "cell_type": "code",
   "execution_count": 17,
   "metadata": {},
   "outputs": [],
   "source": [
    "# If the final region is PEC then don't solve in the outermost region.\n",
    "# Number of unknowns decreases by 2. Last four matching conditions lost.\n",
    "# Require two new boundary conditions. Set Ephi=Ez=0 at boundary.\n",
    "# This is achieved by removing the matching conditions for Hz and HPhi and\n",
    "# the last two columns which had coefficients of unknowns in outer region.\n",
    "if conductivity[-1] == 'PEC':\n",
    "    coef_matrix.row_del(-1)\n",
    "    coef_matrix.row_del(-1)\n",
    "    coef_matrix.col_del(-1)\n",
    "    coef_matrix.col_del(-1)\n",
    "    const_matrix.row_del(-1)\n",
    "    const_matrix.row_del(-1)\n",
    "    const_matrix.col_del(-1)\n",
    "    const_matrix.col_del(-1)\n",
    "    solution_path = os.path.join(solution_path, 'PEC')\n",
    "\n",
    "# If the final region is PMC then don't solve in the outer most region.\n",
    "# Set Hz = Hphi = 0 at boundary.\n",
    "# This is achieved by removing the matching conditions for Ez and EPhi and\n",
    "# the last two columns which had coefficients for unknowns in outer region.\n",
    "elif conductivity[-1] == 'PMC':\n",
    "    coef_matrix.row_del(-3)\n",
    "    coef_matrix.row_del(-3)\n",
    "    coef_matrix.col_del(-1)\n",
    "    coef_matrix.col_del(-1)\n",
    "    const_matrix.row_del(-3)\n",
    "    const_matrix.row_del(-3)\n",
    "    const_matrix.col_del(-1)\n",
    "    const_matrix.col_del(-1)\n",
    "    solution_path = os.path.join(solution_path, 'PMC')\n"
   ]
  },
  {
   "cell_type": "markdown",
   "metadata": {},
   "source": [
    "# Find or Load Expressions\n",
    "\n",
    "Before finding the expression, check whether this matrix hasn't\n",
    "been solved before. If so, load the expressions rather than finding\n",
    "them again."
   ]
  },
  {
   "cell_type": "code",
   "execution_count": 18,
   "metadata": {
    "tags": []
   },
   "outputs": [],
   "source": [
    "def check_solution_path(path):\n",
    "    if (os.path.exists(os.path.join(path, f'redu_n{num_layers}_z1perp.txt')) and\n",
    "        os.path.exists(os.path.join(path, f'repl_n{num_layers}_z1perp.txt'))):\n",
    "        return True\n",
    "    \n",
    "    return False\n",
    "\n",
    "\n",
    "def save_cse(redu, repl, path):\n",
    "    with open(os.path.join(path, f'redu_n{num_layers}_z1perp.txt'), 'w') as f:\n",
    "        print(redu[0], file=f)\n",
    "\n",
    "    with open(os.path.join(path, f'repl_n{num_layers}_z1perp.txt'), 'w') as f:\n",
    "        for i in repl:\n",
    "            print(i, file=f)\n",
    "            \n",
    "    \n",
    "def load_cse(path):\n",
    "    # For some reason the symbol m doesn't get converted into a symbol\n",
    "    # by sympify, so I've had to specify this explicitly.\n",
    "    ns = {}\n",
    "    ns[\"m\"] = m\n",
    "\n",
    "    if check_solution_path(path):\n",
    "        with open(os.path.join(path, f'redu_n{num_layers}_z1perp.txt')) as f:\n",
    "            redu = [ss.sympify(f.readline(), locals = ns)]\n",
    "\n",
    "        repl = []\n",
    "        with open(os.path.join(path, f'repl_n{num_layers}_z1perp.txt'), 'r') as f:\n",
    "            for line in f:\n",
    "                repl.append(ss.sympify(line.strip(), locals = ns))\n",
    "            \n",
    "        return redu, repl\n",
    "    \n",
    "    else:\n",
    "        print(\"Solution files not found\")\n",
    "        return 0, 0"
   ]
  },
  {
   "cell_type": "code",
   "execution_count": 19,
   "metadata": {},
   "outputs": [
    {
     "name": "stdout",
     "output_type": "stream",
     "text": [
      "Loading pre-computed solution\n"
     ]
    }
   ],
   "source": [
    "if check_solution_path(solution_path):\n",
    "    print(\"Loading pre-computed solution\")\n",
    "    redu, repl = load_cse(solution_path)\n",
    "\n",
    "else:\n",
    "    print(\"Finding new solution. May take some time.\")\n",
    "    \n",
    "    # Find the field coefficient in inner region\n",
    "    a1 = ss.simplify(const_matrix).det(method='lu')/ss.simplify(coef_matrix).det(method='lu')\n",
    "    \n",
    "    # Find the total transverse impedance (this includes space charge)\n",
    "    Ztott = -1/(k*ss.pi*alpha[0]*Qm) * a1 * Ib(m, chi[0]*alpha[0]) * ss.pi\n",
    "    \n",
    "    # Perform CSE operation to simplify evaluation of impedance\n",
    "    repl, redu = ss.simplify(ss.cse(Ztott))\n",
    "    \n",
    "    # Save solution for future use\n",
    "    save_cse(redu, repl, solution_path)"
   ]
  },
  {
   "cell_type": "code",
   "execution_count": 20,
   "metadata": {},
   "outputs": [],
   "source": [
    "# Not used\n",
    "\n",
    "# Zlong = -1/((cn.e)*pi*alpha[0]) * a1 * Ib(m, chi[0]*alpha[0]) * pi"
   ]
  },
  {
   "cell_type": "markdown",
   "metadata": {},
   "source": [
    "# Substitute Settings\n",
    "\n",
    "We're ready to start substituting numbers, which can be time-consuming due to the\n",
    "potentially large expression for the impedance. To speed up computation\n",
    "the CSE method will be used along with many lambdified functions. First a substitution\n",
    "dictionary will be built up. This will substitute all the relevant symbols so that\n",
    "the expression can be written in terms of the user defined settings."
   ]
  },
  {
   "cell_type": "markdown",
   "metadata": {},
   "source": [
    "## Build Substitution Dictionary"
   ]
  },
  {
   "cell_type": "code",
   "execution_count": 21,
   "metadata": {},
   "outputs": [],
   "source": [
    "subs_dict = {}\n",
    "\n",
    "# Constant from b2 and multipole moments\n",
    "subs_dict[Gamma] = ss.I * omega * Qm / (epsilon[0]*v**2*gamma**2*ss.pi*alpha[0]**m * (1+dm))*Ib(m, chi[0]*alpha[0])\n",
    "subs_dict[Qm] = cn.e * alpha[0]**m\n",
    "subs_dict[m] = multipole_moment\n",
    "\n",
    "# This is the value for Kronecker delta\n",
    "if multipole_moment == 0:\n",
    "    subs_dict[dm] = 1\n",
    "else:\n",
    "    subs_dict[dm] = 0\n",
    "    \n",
    "# Propagation Constants\n",
    "subs_dict[chi[0]] = omega/v/gamma\n",
    "subs_dict[chi[1]] = omega/v/gamma\n",
    "\n",
    "for i in range(num_layers):\n",
    "    subs_dict[chi[i+2]] = ss.sqrt(k**2 - omega**2*epsilon[i+2]*mu[i+2])\n",
    "\n",
    "subs_dict[k] = omega/v\n",
    "\n",
    "\n",
    "# Permeability\n",
    "subs_dict[mu[0]] = cn.mu_0\n",
    "subs_dict[mu[1]] = cn.mu_0\n",
    "for n,i in enumerate(permeability):\n",
    "    subs_dict[mu[n+2]] = i\n",
    "\n",
    "# Permittivity\n",
    "subs_dict[epsilon[0]] = cn.epsilon_0\n",
    "subs_dict[epsilon[1]] = cn.epsilon_0\n",
    "for n,i in enumerate(permittivity):\n",
    "    subs_dict[epsilon[n+2]] = i - ss.I*sigma[n+2]/omega\n",
    "\n",
    "# Conductivity\n",
    "subs_dict[sigma[0]] = 0\n",
    "subs_dict[sigma[1]] = 0\n",
    "for n, i in enumerate(conductivity):\n",
    "    subs_dict[sigma[n+2]] = i\n",
    "\n",
    "    \n",
    "# Relativity\n",
    "subs_dict[gamma] = 1/ss.sqrt(1-v**2/cn.c**2)\n",
    "subs_dict[v] = beta * cn.c\n",
    "\n",
    "# Angular frequency\n",
    "subs_dict[omega] = 2*ss.pi*nu\n",
    "\n",
    "\n",
    "# Radii \n",
    "subs_dict[alpha[0]] = particle_offset\n",
    "subs_dict[alpha[1]] = inner_radius\n",
    "\n",
    "if len(alpha) > 2:\n",
    "    total_rad = inner_radius\n",
    "    for n, i in enumerate(layer_thickness):\n",
    "        subs_dict[alpha[n+2]] = total_rad + i\n",
    "        total_rad += i"
   ]
  },
  {
   "cell_type": "markdown",
   "metadata": {},
   "source": [
    "## Perform substitution"
   ]
  },
  {
   "cell_type": "code",
   "execution_count": 22,
   "metadata": {},
   "outputs": [],
   "source": [
    "def kvv(m, argument):\n",
    "    return mp.besselk(m, argument)\n",
    "\n",
    "def ivv(m, argument):\n",
    "    return mp.besseli(m, argument)\n",
    "\n",
    "bessel = {'besselk':kvv,'besseli':ivv}\n",
    "libraries = [{'sqrt': snp.sqrt}, bessel, \"numpy\"]"
   ]
  },
  {
   "cell_type": "code",
   "execution_count": 23,
   "metadata": {},
   "outputs": [],
   "source": [
    "# Substitute the dictionary into repl_subs.\n",
    "# The only original variable which should be left is nu (frequency)\n",
    "repl_subs = [(i[0], i[1].subs(subs_dict)) for i in repl]\n",
    "redu_subs = [i.subs(subs_dict) for i in redu]\n",
    "\n",
    "# Build an array for all of the numerical values of the repl variables\n",
    "used_symbols = [nu]\n",
    "\n",
    "repl_funs = []\n",
    "for i, vv in enumerate(repl_subs):\n",
    "    repl_funs.append(lambdify(used_symbols, vv[1], modules=libraries))\n",
    "    used_symbols.append(vv[0])\n",
    "\n",
    "# Lambdify the reduced method, using nu + all the CSE repl variables (x0, x1, x2, ...)\n",
    "glam = lambdify(used_symbols, redu_subs[0], modules=libraries)"
   ]
  },
  {
   "cell_type": "markdown",
   "metadata": {},
   "source": [
    "# Transverse Impedance"
   ]
  },
  {
   "cell_type": "markdown",
   "metadata": {},
   "source": [
    "## Compute Transverse Impedance"
   ]
  },
  {
   "cell_type": "code",
   "execution_count": 24,
   "metadata": {
    "tags": []
   },
   "outputs": [
    {
     "name": "stderr",
     "output_type": "stream",
     "text": [
      "100%|██████████| 1000/1000 [00:12<00:00, 80.57it/s]\n"
     ]
    },
    {
     "data": {
      "text/plain": [
       "[mpc(real='31.5531259111565924945456872', imag='-95969.64197094621650158388087'),\n",
       " mpc(real='32.43802123029628794847130458', imag='-95969.64449195886139925723423'),\n",
       " mpc(real='33.34773288636333953985953139', imag='-95969.64715635323402739496766'),\n",
       " mpc(real='34.28295681959397343055337689', imag='-95969.64997228724592098015182'),\n",
       " mpc(real='35.24440848532267824409637143', imag='-95969.65294838261155504768876')]"
      ]
     },
     "execution_count": 24,
     "metadata": {},
     "output_type": "execute_result"
    }
   ],
   "source": [
    "def zperp_total(frequency):\n",
    "    xs=[frequency]\n",
    "\n",
    "    # Calculate numerical values for all of the repl_variables with\n",
    "    # their respective functions (x0, x1, x2, ...)\n",
    "    for fun in repl_funs:\n",
    "        xs.append(fun(*xs))\n",
    "\n",
    "    # Substitute all of the calculated numerical values into the lambdified\n",
    "    # reduced function\n",
    "    return glam(*xs)\n",
    "\n",
    "res = [zperp_total(i) for i in tqdm(freqs)]\n",
    "\n",
    "# At this point we've calculated all the impedances, but direct & indirect\n",
    "# space-charge impedances still included.\n",
    "# Also, all the elements of res are mpc objects (from mpmath). I won't convert\n",
    "# them to ordinary floats until we've dealt with space charge.\n",
    "res[0:5]"
   ]
  },
  {
   "cell_type": "markdown",
   "metadata": {},
   "source": [
    "## Subtract Space Charge Components"
   ]
  },
  {
   "cell_type": "code",
   "execution_count": 25,
   "metadata": {},
   "outputs": [],
   "source": [
    "# Create formula for space-charge impedance and evaluate it.\n",
    "\n",
    "# Write the formulas for direct and indirect space-charge\n",
    "direct_space_charge = -ss.I*Ib(m, chi[0]*alpha[0])**2 / (ss.pi * alpha[0]**(m+1)*epsilon[0]*v*gamma**2) * (Kb(m, chi[0]*alpha[0])/Ib(m, chi[0]*alpha[0]))\n",
    "indirect_space_charge = -ss.I*Ib(m, chi[0]*alpha[0])**2 / (ss.pi * alpha[0]**(m+1)*epsilon[0]*v*gamma**2) * -(Kb(m, chi[1]*alpha[1])/Ib(m, chi[1]*alpha[1]))\n",
    "# space_charge = direct_space_charge + indirect_space_charge\n",
    "\n",
    "# Lambidfy the space charge functions.\n",
    "lambdified_direct_space_charge = lambdify(nu, direct_space_charge.subs(subs_dict), modules=libraries)\n",
    "lambdified_indirect_space_charge = lambdify(nu, indirect_space_charge.subs(subs_dict), modules=libraries)\n",
    "\n",
    "# This is only a short expression, so we can afford to evaluate it as many times as we need to.\n",
    "direct_space_charge_res = [lambdified_direct_space_charge(i) for i in freqs]\n",
    "indirect_space_charge_res = [lambdified_indirect_space_charge(i) for i in freqs]"
   ]
  },
  {
   "cell_type": "code",
   "execution_count": 26,
   "metadata": {
    "tags": []
   },
   "outputs": [],
   "source": [
    "# Subtract space-charge if that is requested.\n",
    "\n",
    "results = np.array([float(i.real) + 1j*float(i.imag) for i in res], dtype=np.complex128)\n",
    "\n",
    "if include_direct_space_charge is False:\n",
    "    results = np.array([float(i.real - j.real) + 1j*float(i.imag - j.imag) for i,j in zip(results, direct_space_charge_res)])\n",
    "\n",
    "if include_indirect_space_charge is False:\n",
    "    results = np.array([float(i.real - j.real) + 1j*float(i.imag - j.imag) for i,j in zip(results, indirect_space_charge_res)])"
   ]
  },
  {
   "cell_type": "markdown",
   "metadata": {},
   "source": [
    "## Impedance Convention"
   ]
  },
  {
   "cell_type": "code",
   "execution_count": 27,
   "metadata": {},
   "outputs": [],
   "source": [
    "# Calculations were done in +j convention, so find the\n",
    "# conjugate if the user wants -i convention.\n",
    "\n",
    "if impedance_convention == \"-i\":\n",
    "    results = np.conjugate(results)"
   ]
  },
  {
   "cell_type": "markdown",
   "metadata": {},
   "source": [
    "## Plot Impedance"
   ]
  },
  {
   "cell_type": "code",
   "execution_count": 28,
   "metadata": {},
   "outputs": [
    {
     "data": {
      "image/png": "[encoded data removed]",
      "text/plain": [
       "<Figure size 640x480 with 1 Axes>"
      ]
     },
     "metadata": {},
     "output_type": "display_data"
    },
    {
     "data": {
      "image/png": "[encoded data removed]",
      "text/plain": [
       "<Figure size 640x480 with 1 Axes>"
      ]
     },
     "metadata": {},
     "output_type": "display_data"
    }
   ],
   "source": [
    "plt.figure()\n",
    "plt.plot(freqs, np.real(results), '-')\n",
    "plt.xscale('log')\n",
    "plt.yscale('log')\n",
    "plt.xlabel(\"Frequency (Hz)\")\n",
    "plt.ylabel(r\"$\\Re \\left( Z_{\\perp} \\right)$ ($\\Omega m^{-2}$)\")\n",
    "plt.show()\n",
    "\n",
    "plt.figure()\n",
    "plt.plot(freqs, np.imag(results), '-')\n",
    "plt.xscale('log')\n",
    "# plt.yscale('log')\n",
    "plt.xlabel(\"Frequency (Hz)\")\n",
    "plt.ylabel(r\"$\\Im \\left( Z_{\\perp} \\right)$ ($\\Omega m^{-2}$)\")\n",
    "plt.show()"
   ]
  },
  {
   "cell_type": "markdown",
   "metadata": {},
   "source": [
    "## Save Impedance"
   ]
  },
  {
   "cell_type": "code",
   "execution_count": 29,
   "metadata": {
    "tags": []
   },
   "outputs": [],
   "source": [
    "np.savetxt(os.path.join(output_path, filename + '.Z1perp.txt'),\n",
    "           np.stack((freqs, np.real(results), np.imag(results)), axis=1),\n",
    "           delimiter=',',\n",
    "           header='Frequency (Hz), Real Zperp (Ohm/m/m), Imaginary Zperp (Ohm/m/m)')"
   ]
  },
  {
   "cell_type": "markdown",
   "metadata": {},
   "source": [
    "## High and Low Frequency Approximation"
   ]
  },
  {
   "cell_type": "code",
   "execution_count": 30,
   "metadata": {
    "tags": []
   },
   "outputs": [],
   "source": [
    "def thinwall_vos(frequency, pipe_radius, pipe_thickness, resistivity, beta):\n",
    "    L = cn.mu_0 / 2\n",
    "    R = resistivity / (2 * np.pi * pipe_radius * pipe_thickness)\n",
    "    ω = 2 * np.pi * frequency\n",
    "    coef = -2 * cn.c / ω / pipe_radius**2\n",
    "    numerator = 1j * frequency * L * R\n",
    "    denominator = R - 1j * frequency * L\n",
    "\n",
    "    return beta * coef * numerator / denominator\n",
    "\n",
    "def thickwall_gluckstern(frequency, pipe_radius, resistivity, beta):\n",
    "    permeability = cn.mu_0\n",
    "    conductivity = 1 / resistivity\n",
    "    ds = np.sqrt(2/((2*np.pi*frequency) * permeability * conductivity)) \n",
    "    Z_gluckstern = permeability * beta*cn.c * ds * (1-1j) / (2*np.pi*(pipe_radius)**3)\n",
    "    \n",
    "    return Z_gluckstern\n",
    "    "
   ]
  },
  {
   "cell_type": "code",
   "execution_count": 31,
   "metadata": {
    "tags": []
   },
   "outputs": [
    {
     "data": {
      "image/png": "[encoded data removed]",
      "text/plain": [
       "<Figure size 640x480 with 1 Axes>"
      ]
     },
     "metadata": {},
     "output_type": "display_data"
    }
   ],
   "source": [
    "plt.figure()\n",
    "plt.plot(freqs, np.real(results), '-', label=r'RWAL')\n",
    "plt.plot(freqs[::20], np.real(thinwall_vos(freqs[::20], inner_radius,\n",
    "                                               layer_thickness[0], 1/conductivity[0], \n",
    "                                              1)), '.', label='Thin Wall')\n",
    "plt.plot(freqs[50::20], np.real(thickwall_gluckstern(freqs[50::20], inner_radius,\n",
    "                                               1/conductivity[0], \n",
    "                                              1)), '.', label='Thick Wall')\n",
    "plt.xscale('log')\n",
    "plt.yscale('log')\n",
    "plt.xlabel(\"Frequency (Hz)\")\n",
    "plt.ylabel(r\"$\\frac{1}{L} \\Re \\left( Z_{1}^{\\perp}(\\omega) \\right)$ ($\\Omega/$m$^2$)\")\n",
    "plt.legend(loc='upper right')\n",
    "plt.show()"
   ]
  },
  {
   "cell_type": "code",
   "execution_count": 32,
   "metadata": {},
   "outputs": [
    {
     "data": {
      "image/png": "[encoded data removed]",
      "text/plain": [
       "<Figure size 640x480 with 1 Axes>"
      ]
     },
     "metadata": {},
     "output_type": "display_data"
    }
   ],
   "source": [
    "plt.figure()\n",
    "plt.plot(freqs, -np.imag(results), '-', label=r'RWAL', zorder=10)\n",
    "plt.plot(freqs[::10], -np.imag(thinwall_vos(freqs[::10], inner_radius,\n",
    "                                               layer_thickness[0], 1/conductivity[0], \n",
    "                                              1)), '.', label='Thin Wall')\n",
    "plt.plot(freqs[30::10], -np.imag(thickwall_gluckstern(freqs[30::10], inner_radius,\n",
    "                                               1/conductivity[0], \n",
    "                                              1)), '.', label='Thick Wall')\n",
    "plt.xscale('log')\n",
    "plt.yscale('log')\n",
    "plt.xlabel(\"Frequency (Hz)\")\n",
    "plt.ylabel(r\"$\\frac{1}{L} \\Im \\left( Z_{1}^{\\perp}(\\omega) \\right)$ ($\\Omega/$m$^2$)\")\n",
    "plt.legend(loc='lower left')\n",
    "plt.show()"
   ]
  },
  {
   "cell_type": "markdown",
   "metadata": {},
   "source": [
    "# Wake Function\n",
    "\n",
    "---\n",
    "\n",
    "**WARNING**\n",
    "\n",
    "The wake computation of RWAL works in principle, but it is not automatically\n",
    "accurate. The user has to get all the settings right and check convergence. \n",
    "\n",
    "---\n",
    "\n",
    "The transverse wake, $W_{\\perp}(z)$, as defined by Chao in Equation 2.72.\n",
    "$$\n",
    "W_{\\perp}(z)\n",
    "=\n",
    "\\frac{-i}{2\\pi}\n",
    "\\int_{-\\infty}^{\\infty}\n",
    "Z_{1}^{\\perp}(\\omega)\n",
    "e^{i\\omega \\frac{z}{\\beta c}}\n",
    "\\,\\textrm{d}\\omega\n",
    "$$\n",
    "Note that RWAL has until now used Gluckstern's +j sign\n",
    "convention on the FT for the impedance, but I am now using Chao's formula\n",
    "for the wake which uses the -i convention.\n",
    "\n",
    "Using the symmetry properties of transverse impedances, I find that\n",
    "this integral can be computed with\n",
    "$$\n",
    "\\begin{align*}\n",
    "W_{\\perp}(z)\n",
    "= \\frac{1}{\\pi} \\left[\n",
    "\\int_{0}^{\\infty} \\Re \\left( Z_{1}^{\\perp}(\\omega) \\right) \\sin\\left(\\omega \\frac{z}{\\beta c}\\right) \\,\\textrm{d}\\omega\n",
    "+\n",
    "\\int_{0}^{\\infty} \\Im \\left( Z_{1}^{\\perp}(\\omega) \\right) \\cos\\left(\\omega \\frac{z}{\\beta c}\\right) \\,\\textrm{d}\\omega\n",
    "\\right]\n",
    "\\end{align*},\n",
    "$$\n",
    "so that I only need to evaluate the impedance for positive frequencies,\n",
    "and I can use standard Filon integrals.\n",
    "To apply Filon's technique, I will truncate the integration limits at\n",
    "both ends. "
   ]
  },
  {
   "cell_type": "markdown",
   "metadata": {},
   "source": [
    "## Wake Convention\n",
    "\n",
    "I've already allowed the\n",
    "user to specify the sign convention they want in the settings\n",
    "and adjusted the impedance by taking the complex conjugate, so\n",
    "at this point the variable \"results\" has the sign convention\n",
    "specified by the user. If the user has specified the -i \n",
    "convention, then I can leave the impedance as it is and use\n",
    "the definition above. If the user has specified the +j convention,\n",
    "then I need to take the complex conjucate before I use the\n",
    "wake definition here."
   ]
  },
  {
   "cell_type": "code",
   "execution_count": 33,
   "metadata": {},
   "outputs": [],
   "source": [
    "if impedance_convention == \"-i\":\n",
    "    convention_sign = +1\n",
    "else:\n",
    "    convention_sign = -1"
   ]
  },
  {
   "cell_type": "markdown",
   "metadata": {},
   "source": [
    "## Compute Wake\n",
    "\n",
    "Even if I use Filon's integration method, I need some samples of the\n",
    "impedance evaluated equidistantly. Since I've done a logarithmically\n",
    "spaced frequency samples, I don't have an equidistant impedance samples.\n",
    "To overcome this, I'm going to interpolate the impedance that's been\n",
    "calculated with equidistant samples.\n",
    "\n",
    "Filon's method will then use these and assume a polynomial fit\n",
    "between them, so the samples have to be sufficiently close together for\n",
    "this to be a good approximation. At the same time, I need to span\n",
    "several orders of magnitude. I might need 1 Hz spacings in the\n",
    "frequency range of 1-10 Hz, but if I do 1 Hz spacings centred on 1 GHz,\n",
    "then I will need to do a lot of interpolations.\n",
    "\n",
    "To overcome this problem, I will split my integral up into several\n",
    "integrals and vary the equidistant spacings based on the limits.\n",
    "If the lower limit is 1 GHz, then maybe I will do 1 MHz spacings etc.\n",
    "I'll keep going until I hit the maximum frequency I've computed."
   ]
  },
  {
   "cell_type": "code",
   "execution_count": 34,
   "metadata": {
    "tags": []
   },
   "outputs": [],
   "source": [
    "# Here I assume some behaviour of the impedance\n",
    "#\n",
    "# I assume that the real part of the impedance is 0 at f = 0\n",
    "# I assume that the imaginary part of the impedance is equal to\n",
    "# the first computed value.\n",
    "# I assume that the real part is odd and the imag part even\n",
    "#\n",
    "# These shouldn't be bad approximations provided the frequency\n",
    "# step size is sufficiently small.\n",
    "_f = np.append(np.append(-freqs[::-1], 0), freqs)\n",
    "_zperp_re = np.append(np.append(-np.real(results)[::-1], 0), np.real(results))\n",
    "_zperp_im = np.append(np.append(+np.imag(results)[::-1], np.imag(results)[0]), np.imag(results))    \n",
    "\n",
    "def assumed_impedance(f, length=1):\n",
    "    '''\n",
    "    RWAL computes the impedance for certain positive\n",
    "    frequencies. This function uses the assumed impedances\n",
    "    and returns an interpolated value for any frequency.\n",
    "    '''\n",
    "    if np.max(np.abs(f)) > freqs[-1]:\n",
    "        raise ValueError(\"Frequency out of range.\")\n",
    "        return 0\n",
    "    else:\n",
    "        re_zperp = np.interp(f, _f, _zperp_re)\n",
    "        im_zperp = np.interp(f, _f, _zperp_im)\n",
    "\n",
    "        return (re_zperp + convention_sign * 1j*im_zperp) * length"
   ]
  },
  {
   "cell_type": "code",
   "execution_count": 35,
   "metadata": {
    "tags": []
   },
   "outputs": [],
   "source": [
    "# For convenience, define some vectorised versions of these\n",
    "# functions so that I can evaluate the wake at several values of\n",
    "# z simultaneously\n",
    "filon_sin = np.vectorize(fil.filon_fun_sin,\n",
    "                         excluded=(0, 1, 2, 4))\n",
    "filon_cos = np.vectorize(fil.filon_fun_cos,\n",
    "                         excluded=(0, 1, 2, 4))\n",
    "\n",
    "def inverse_transform(a, b):\n",
    "    '''\n",
    "    Returns the inverse transform integral between the limits a and b.\n",
    "    To perform an inverse Fourier transform a = 0 and b -> infty.\n",
    "    '''\n",
    "    F1 = filon_sin(lambda w: np.real(assumed_impedance(w / 2 / np.pi)), a, b, z / beta / cn.c, 2*mesh_setting + 1)\n",
    "    F2 = filon_cos(lambda w: np.imag(assumed_impedance(w / 2 / np.pi)), a, b, z / beta / cn.c, 2*mesh_setting + 1)\n",
    "    return np.real(1 / np.pi * (F1 + F2))"
   ]
  },
  {
   "cell_type": "code",
   "execution_count": 36,
   "metadata": {
    "tags": []
   },
   "outputs": [
    {
     "name": "stderr",
     "output_type": "stream",
     "text": [
      "100%|██████████| 1000/1000 [00:06<00:00, 163.08it/s]\n"
     ]
    }
   ],
   "source": [
    "# Define the limits for the integration\n",
    "# lower limits start at 0 then take every value of frequency except the last value.\n",
    "# upper limit takes every value of frequency including the final value.\n",
    "# multiplied by 2pi because these are limited for omega, not f\n",
    "aa = np.append([0], freqs[:-1]) * 2 * np.pi\n",
    "bb = freqs * 2 * np.pi\n",
    "\n",
    "# copute the wake.\n",
    "# The integral is split up into many smaller integrals with logarithmic spacing.\n",
    "# Compute the integral for each limit in parallel, then add them all up.\n",
    "_wake = np.array(Parallel(n_jobs=8)(delayed(inverse_transform)(i, j)\n",
    "                                      for (i, j) in tqdm(zip(aa, bb), total=len(freqs))))\n",
    "wake = np.sum(_wake, axis=0)\n",
    "del(_wake)"
   ]
  },
  {
   "cell_type": "markdown",
   "metadata": {},
   "source": [
    "## Plot Wake"
   ]
  },
  {
   "cell_type": "code",
   "execution_count": 37,
   "metadata": {
    "tags": []
   },
   "outputs": [
    {
     "data": {
      "image/png": "[encoded data removed]",
      "text/plain": [
       "<Figure size 640x480 with 1 Axes>"
      ]
     },
     "metadata": {},
     "output_type": "display_data"
    }
   ],
   "source": [
    "plt.figure()\n",
    "plt.plot(-z, np.abs(wake), '-', label='Behind bunch')\n",
    "plt.plot(z, np.abs(wake), '-', label='Ahead of bunch')\n",
    "plt.xscale('log')\n",
    "plt.yscale('log')\n",
    "plt.grid()\n",
    "plt.xlabel(r\"$z$ (m)\")\n",
    "plt.ylabel(r\"$W_{\\perp}$ ($\\Omega$/m/s)\") \n",
    "# plt.ylim(1e4, 5e16)\n",
    "plt.legend(loc=0)\n",
    "# plt.ylim(1e3, 1e12)\n",
    "plt.show()"
   ]
  },
  {
   "cell_type": "code",
   "execution_count": 38,
   "metadata": {},
   "outputs": [
    {
     "data": {
      "image/png": "[encoded data removed]",
      "text/plain": [
       "<Figure size 640x480 with 1 Axes>"
      ]
     },
     "metadata": {},
     "output_type": "display_data"
    }
   ],
   "source": [
    "# Wake can go negative, so previous plot can be unclear\n",
    "\n",
    "plt.figure()\n",
    "plt.plot(-z, wake, '-', label='Behind bunch')\n",
    "plt.plot(z, wake, '-', label='Ahead of bunch')\n",
    "plt.xscale('log')\n",
    "# plt.yscale('log')\n",
    "plt.grid()\n",
    "plt.xlabel(r\"$z$ (m)\")\n",
    "plt.ylabel(r\"$W_{\\perp}$ ($\\Omega$/m/s)\") \n",
    "# plt.ylim(1e4, 5e16)\n",
    "plt.legend(loc=0)\n",
    "plt.show()"
   ]
  },
  {
   "cell_type": "markdown",
   "metadata": {},
   "source": [
    "## Save Wake"
   ]
  },
  {
   "cell_type": "code",
   "execution_count": 39,
   "metadata": {
    "tags": []
   },
   "outputs": [],
   "source": [
    "np.savetxt(os.path.join(output_path, filename + '.W1perp.txt'),\n",
    "           np.stack((z, wake), axis=1),\n",
    "           delimiter=',',\n",
    "           header='Distance ahead of source z (m), Driving W1perp (Ohm/m/s)')"
   ]
  },
  {
   "cell_type": "markdown",
   "metadata": {},
   "source": [
    "## High Frequency Approximation"
   ]
  },
  {
   "cell_type": "code",
   "execution_count": 40,
   "metadata": {
    "tags": []
   },
   "outputs": [],
   "source": [
    "def thick_wall_wake(z, pipe_radius, conductivity, length, beta):\n",
    "    heaviside = (np.sign(z)-1)/2  # = +1 if z <0, = 0 if z > 0\n",
    "    z = abs(z)\n",
    "    return heaviside * beta / pipe_radius**3 * np.sqrt(cn.mu_0 * beta * cn.c**3/np.pi**3/conductivity / z) * length"
   ]
  },
  {
   "cell_type": "code",
   "execution_count": 41,
   "metadata": {
    "tags": []
   },
   "outputs": [
    {
     "data": {
      "image/png": "[encoded data removed]",
      "text/plain": [
       "<Figure size 640x480 with 1 Axes>"
      ]
     },
     "metadata": {},
     "output_type": "display_data"
    }
   ],
   "source": [
    "plt.figure()\n",
    "plt.plot(-z, np.abs(wake), '-', label='Wake Behind bunch')\n",
    "plt.plot(-z[::30],\n",
    "         np.abs(thick_wall_wake(z, inner_radius, conductivity[0], 1, beta)[::30]), 'o',\n",
    "         label='Thick Wall Wake')\n",
    "plt.xscale('log')\n",
    "plt.yscale('log')\n",
    "plt.grid()\n",
    "plt.xlabel(r\"$z$ (m)\")\n",
    "plt.ylabel(r\"$W_{\\perp}$ ($\\Omega$/m/s)\") \n",
    "# plt.ylim(1e4, 5e16)\n",
    "plt.legend(loc=0)\n",
    "plt.show()"
   ]
  },
  {
   "cell_type": "code",
   "execution_count": null,
   "metadata": {},
   "outputs": [],
   "source": []
  }
 ],
 "metadata": {
  "kernelspec": {
   "display_name": "RWAL",
   "language": "python",
   "name": "rwal"
  },
  "language_info": {
   "codemirror_mode": {
    "name": "ipython",
    "version": 3
   },
   "file_extension": ".py",
   "mimetype": "text/x-python",
   "name": "python",
   "nbconvert_exporter": "python",
   "pygments_lexer": "ipython3",
   "version": "3.11.1"
  },
  "toc-autonumbering": true
 },
 "nbformat": 4,
 "nbformat_minor": 4
}
